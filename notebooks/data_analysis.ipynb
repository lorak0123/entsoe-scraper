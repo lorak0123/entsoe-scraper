{
 "cells": [
  {
   "cell_type": "code",
   "id": "initial_id",
   "metadata": {
    "collapsed": true,
    "ExecuteTime": {
     "end_time": "2024-10-22T19:22:54.151875Z",
     "start_time": "2024-10-22T19:22:53.987415Z"
    }
   },
   "source": [
    "from datetime import timedelta\n",
    "import plotly.express as px\n",
    "\n",
    "import pandas as pd"
   ],
   "outputs": [],
   "execution_count": 153
  },
  {
   "metadata": {
    "ExecuteTime": {
     "end_time": "2024-10-23T05:14:49.307900Z",
     "start_time": "2024-10-23T05:14:48.795264Z"
    }
   },
   "cell_type": "code",
   "source": [
    "data = pd.read_csv('../data/actual_gen_per_type_realised.csv', index_col='timestamp', parse_dates=True)\n",
    "prices = pd.read_csv('../data/price_realised.csv', index_col='timestamp', parse_dates=True)\n",
    "\n",
    "prices_15 = prices[prices.resolution == 'PT15M']['Price']\n",
    "prices_60 = prices[prices.resolution == 'PT60M']['Price']\n",
    "idx = pd.date_range(prices_60.index.min(), prices_60.index.max(), freq='15min')\n",
    "prices_60 = prices_60.reindex(idx, method='ffill')"
   ],
   "id": "f451a4edfae0ee69",
   "outputs": [],
   "execution_count": 210
  },
  {
   "metadata": {
    "ExecuteTime": {
     "end_time": "2024-10-23T05:14:50.398454Z",
     "start_time": "2024-10-23T05:14:50.380210Z"
    }
   },
   "cell_type": "code",
   "source": "data = pd.merge(data, prices_15, left_index=True, right_index=True)",
   "id": "d68634aff91fe36a",
   "outputs": [],
   "execution_count": 211
  },
  {
   "metadata": {
    "ExecuteTime": {
     "end_time": "2024-10-23T05:14:52.222254Z",
     "start_time": "2024-10-23T05:14:51.496725Z"
    }
   },
   "cell_type": "code",
   "source": [
    "data['Day of year'] = data.index.map(lambda x: x.dayofyear)\n",
    "data['Hour'] = data.index.map(lambda x: x.hour)\n",
    "data['Month'] = data.index.map(lambda x: x.month)\n",
    "\n"
   ],
   "id": "bcaf1565b970b97e",
   "outputs": [],
   "execution_count": 212
  },
  {
   "metadata": {
    "ExecuteTime": {
     "end_time": "2024-10-23T05:14:53.260278Z",
     "start_time": "2024-10-23T05:14:53.239134Z"
    }
   },
   "cell_type": "code",
   "source": [
    "data = data[['Month', 'Hour', 'Day of year', 'BIOMASS', 'FOSSIL_BROWN_COAL_LIGNITE', 'FOSSIL_GAS',\n",
    "       'FOSSIL_HARD_COAL', 'FOSSIL_OIL', 'GEOTHERMAL', 'HYDRO_PUMPED_STORAGE',\n",
    "       'HYDRO_RUN_OF_RIVER_POUNDAGE', 'HYDRO_WATER_RESERVOIR', 'NUCLEAR',\n",
    "       'OTHER', 'WASTE', 'OTHER_RENEWABLE', 'SOLAR', 'WIND_OFFSHORE',\n",
    "       'WIND_ONSHORE', 'Price']]"
   ],
   "id": "5dba5b190e0c1cae",
   "outputs": [],
   "execution_count": 213
  },
  {
   "metadata": {
    "ExecuteTime": {
     "end_time": "2024-10-23T05:15:09.446879Z",
     "start_time": "2024-10-23T05:15:07.873923Z"
    }
   },
   "cell_type": "code",
   "source": [
    "fig = px.parallel_coordinates(\n",
    "       data, color=\"Price\", range_color=[-100, 800],\n",
    "       dimensions=['Month', 'Hour', 'Day of year', 'BIOMASS', 'FOSSIL_BROWN_COAL_LIGNITE', 'FOSSIL_GAS',\n",
    "       'FOSSIL_HARD_COAL', 'FOSSIL_OIL', 'GEOTHERMAL', 'HYDRO_PUMPED_STORAGE',\n",
    "       'HYDRO_RUN_OF_RIVER_POUNDAGE', 'HYDRO_WATER_RESERVOIR', 'NUCLEAR',\n",
    "       'OTHER', 'WASTE', 'OTHER_RENEWABLE', 'SOLAR', 'WIND_OFFSHORE',\n",
    "       'WIND_ONSHORE', 'Price']\n",
    ")\n",
    "fig.write_html(\"../data/15min_data_full.html\")"
   ],
   "id": "3acfbb01b658c68d",
   "outputs": [],
   "execution_count": 214
  },
  {
   "metadata": {
    "ExecuteTime": {
     "end_time": "2024-10-22T20:19:46.949971Z",
     "start_time": "2024-10-22T20:19:43.662472Z"
    }
   },
   "cell_type": "code",
   "source": [
    "data_2024 = data[data.index.year == 2024]\n",
    "fig = px.parallel_coordinates(data_2024, color=\"Price\")\n",
    "fig.write_html(\"../data/combined_data_2024.html\")"
   ],
   "id": "33a6c6a5d2efe06f",
   "outputs": [],
   "execution_count": 196
  },
  {
   "metadata": {
    "ExecuteTime": {
     "end_time": "2024-10-22T20:43:59.109205Z",
     "start_time": "2024-10-22T20:43:58.977279Z"
    }
   },
   "cell_type": "code",
   "source": [
    "data_sample_1percent = data.sample(frac=0.001)\n",
    "fig = px.parallel_coordinates(data_sample_1percent, color=\"Price\")\n",
    "fig.write_html(\"../data/test.html\")\n"
   ],
   "id": "919c995e887360af",
   "outputs": [],
   "execution_count": 207
  },
  {
   "metadata": {
    "ExecuteTime": {
     "end_time": "2024-10-22T20:46:09.263202Z",
     "start_time": "2024-10-22T20:46:09.079818Z"
    }
   },
   "cell_type": "code",
   "source": [
    "data_sample_minus_10_plus_50 = data[(data.Price > 10) & (data.Price < 12)]\n",
    "fig = px.parallel_coordinates(data_sample_minus_10_plus_50, color=\"Price\")\n",
    "fig.write_html(\"../data/test.html\")"
   ],
   "id": "9f9c5c1811524817",
   "outputs": [],
   "execution_count": 208
  },
  {
   "metadata": {},
   "cell_type": "code",
   "outputs": [],
   "execution_count": null,
   "source": "",
   "id": "47d323eeb45a49e7"
  }
 ],
 "metadata": {
  "kernelspec": {
   "display_name": "Python 3",
   "language": "python",
   "name": "python3"
  },
  "language_info": {
   "codemirror_mode": {
    "name": "ipython",
    "version": 2
   },
   "file_extension": ".py",
   "mimetype": "text/x-python",
   "name": "python",
   "nbconvert_exporter": "python",
   "pygments_lexer": "ipython2",
   "version": "2.7.6"
  }
 },
 "nbformat": 4,
 "nbformat_minor": 5
}
